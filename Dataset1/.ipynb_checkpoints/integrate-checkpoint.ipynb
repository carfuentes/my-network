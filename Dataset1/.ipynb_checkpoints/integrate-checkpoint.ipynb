{
 "cells": [
  {
   "cell_type": "code",
   "execution_count": 2,
   "metadata": {
    "collapsed": true
   },
   "outputs": [],
   "source": [
    "import warnings\n",
    "\n",
    "# The workhorses\n",
    "import numpy as np\n",
    "import scipy.integrate\n",
    "import scipy.optimize"
   ]
  },
  {
   "cell_type": "code",
   "execution_count": 10,
   "metadata": {
    "collapsed": true
   },
   "outputs": [],
   "source": [
    "def count_connections (filename):\n",
    "    with open(filename,\"r\") as f:\n",
    "        connections={}\n",
    "        for line in f:\n",
    "            if line.startswith(\"#\") or line.startswith(\"Source\"):\n",
    "                continue\n",
    "            connections.setdefault(line.split()[0],[0,0])\n",
    "            connections.setdefault(line.split()[1],[0,0])\n",
    "\n",
    "            connections[line.split()[0]][1]+=1\n",
    "            connections[line.split()[1]][0]+=1\n",
    "\n",
    "    return connections "
   ]
  },
  {
   "cell_type": "code",
   "execution_count": 122,
   "metadata": {},
   "outputs": [],
   "source": [
    "def build_adj_list(filename, gene_list):\n",
    "    with open(filename,\"r\") as f:\n",
    "        adj_matrix=np.zeros((len(gene_list),len(gene_list)))\n",
    "        for line in f:\n",
    "            if line.startswith(\"#\") or line.startswith(\"Source\"):\n",
    "                continue\n",
    "            \n",
    "            source=gene_list.index(line.split()[0])\n",
    "            target=gene_list.index(line.split()[1])\n",
    "    \n",
    "            if line.split()[2] == \"+\":\n",
    "                adj_matrix[target][source]=1 \n",
    "            elif line.split()[2] == \"-\":\n",
    "                adj_matrix[target][source]=-1 \n",
    "                \n",
    "    return adj_matrix\n",
    "\n",
    "\n",
    "\n",
    "# Define right hand side of ODEs\n",
    "def update_gene(weight, regulator, gene, n, K, decay):\n",
    "    if weight == 0:\n",
    "        return 0\n",
    "    elif weight > 0:\n",
    "        return ((weight * regulator ** n ) / (K + regulator ** n)) - (decay * gene)\n",
    "    elif weight <0:\n",
    "        return (weight / (regulator / K) ** n) -(decay * gene) \n",
    "\n",
    "                \n",
    "def dx_dt(x, t, matrix_betas, gene_names, n, K):\n",
    "    x_updated= [];\n",
    "    for i, gene in enumerate(gene_names):\n",
    "        x_updated.append((sum(update_gene(weight, x[j], x[i], n, K, decay[i]) for j, weight in enumerate(matrix_betas[i])))\n",
    "              \n",
    "    return np.array(x_updated)\n"
   ]
  },
  {
   "cell_type": "code",
   "execution_count": 123,
   "metadata": {},
   "outputs": [],
   "source": [
    "#Set up gene list\n",
    "gene_list=[key for key in count_connections(\"pruned_net.csv\").keys()]\n",
    "\n",
    "#build matrix\n",
    "matrix=build_adj_list(\"pruned_net.csv\", gene_list)\n",
    "\n",
    "# Initial conditions ##MISMO ORDEN QUE GENE_LIST\n",
    "x0=[ 0.,  0,  0.,  0.,  0,  0.,  0, 6,  9,  0.,  1.,  1.,0.]\n",
    "\n",
    "# Time points\n",
    "t = np.linspace(0, 30, 1000)\n",
    "\n",
    "# Choose parameters\n",
    "K = 10.0\n",
    "n = 3\n",
    "decay=np.ones(len(gene_list))\n",
    "# Solve it!"
   ]
  },
  {
   "cell_type": "code",
   "execution_count": 124,
   "metadata": {},
   "outputs": [
    {
     "name": "stdout",
     "output_type": "stream",
     "text": [
      "[  2.   1.   1.   2.   2.   3.   2.  20.  19.   1.   9.   3.   1.]\n",
      "[[ 0.  0.  0.  0.  0.  0.  0. -1.  1.  0.  0.  0.  0.]\n",
      " [ 0.  0.  0.  0.  0.  0.  0.  0.  0.  0.  0. -1.  0.]\n",
      " [ 0.  0.  0.  0.  0.  0.  0.  0.  1.  0.  0.  0.  0.]\n",
      " [ 0.  0.  0.  0. -1.  0.  0.  0.  1.  0.  0.  0.  0.]\n",
      " [ 0.  0.  0.  0.  0.  0.  1.  0.  1.  0.  0.  0.  0.]\n",
      " [ 0.  0.  0. -1.  0.  0.  0.  0.  0. -1. -1.  0.  0.]\n",
      " [ 0.  0.  0. -1.  0.  0.  0.  0.  1.  0.  0.  0.  0.]\n",
      " [ 1.  0.  0.  0.  0.  0.  0.  0.  1.  0.  0.  0.  0.]\n",
      " [ 0.  0.  0.  0.  0.  0.  0.  0.  0.  0.  0.  0.  1.]\n",
      " [ 0.  0.  0.  0.  0.  0.  0.  0.  1.  0.  0.  0.  0.]\n",
      " [ 0.  0.  1. -1.  0. -1.  0.  0.  1.  0.  0.  0.  0.]\n",
      " [ 0.  1.  0.  0.  0.  0.  0.  0.  0.  0.  0.  0.  0.]\n",
      " [ 0.  0.  0.  0.  0.  0.  0.  0.  1.  0.  0.  0.  0.]]\n",
      "['resd', 'sigg', 'med', 'abrb', 'spo0a', 'rok', 'sigh', 'phop', 'siga', 'sinr', 'comk', 'spovt', 'sigd']\n"
     ]
    }
   ],
   "source": [
    "print(dx_dt(x0,t,matrix,gene_list,n,K,decay))\n",
    "print(matrix)\n",
    "print(gene_list)"
   ]
  },
  {
   "cell_type": "code",
   "execution_count": 110,
   "metadata": {},
   "outputs": [
    {
     "ename": "NameError",
     "evalue": "name 'gene_names' is not defined",
     "output_type": "error",
     "traceback": [
      "\u001b[0;31m---------------------------------------------------------------------------\u001b[0m",
      "\u001b[0;31mNameError\u001b[0m                                 Traceback (most recent call last)",
      "\u001b[0;32m<ipython-input-110-bf182b9d774c>\u001b[0m in \u001b[0;36m<module>\u001b[0;34m()\u001b[0m\n\u001b[0;32m----> 1\u001b[0;31m \u001b[0mx\u001b[0m \u001b[0;34m=\u001b[0m \u001b[0mscipy\u001b[0m\u001b[0;34m.\u001b[0m\u001b[0mintegrate\u001b[0m\u001b[0;34m.\u001b[0m\u001b[0modeint\u001b[0m\u001b[0;34m(\u001b[0m\u001b[0mdx_dt\u001b[0m\u001b[0;34m,\u001b[0m \u001b[0mx0\u001b[0m\u001b[0;34m,\u001b[0m \u001b[0mt\u001b[0m\u001b[0;34m,\u001b[0m \u001b[0margs\u001b[0m\u001b[0;34m=\u001b[0m\u001b[0;34m(\u001b[0m\u001b[0mmatrix\u001b[0m\u001b[0;34m,\u001b[0m\u001b[0mgene_names\u001b[0m\u001b[0;34m,\u001b[0m \u001b[0mn\u001b[0m\u001b[0;34m,\u001b[0m \u001b[0mK\u001b[0m\u001b[0;34m)\u001b[0m\u001b[0;34m)\u001b[0m\u001b[0;34m\u001b[0m\u001b[0m\n\u001b[0m\u001b[1;32m      2\u001b[0m \u001b[0mx\u001b[0m\u001b[0;34m[\u001b[0m\u001b[0;34m:\u001b[0m\u001b[0;36m10\u001b[0m\u001b[0;34m]\u001b[0m\u001b[0;34m\u001b[0m\u001b[0m\n",
      "\u001b[0;31mNameError\u001b[0m: name 'gene_names' is not defined"
     ]
    }
   ],
   "source": [
    "x = scipy.integrate.odeint(dx_dt, x0, t, args=(matrix,gene_names, n, K))\n",
    "x[:10]"
   ]
  },
  {
   "cell_type": "code",
   "execution_count": null,
   "metadata": {
    "collapsed": true
   },
   "outputs": [],
   "source": []
  }
 ],
 "metadata": {
  "kernelspec": {
   "display_name": "Python 3",
   "language": "python",
   "name": "python3"
  },
  "language_info": {
   "codemirror_mode": {
    "name": "ipython",
    "version": 3
   },
   "file_extension": ".py",
   "mimetype": "text/x-python",
   "name": "python",
   "nbconvert_exporter": "python",
   "pygments_lexer": "ipython3",
   "version": "3.5.2"
  }
 },
 "nbformat": 4,
 "nbformat_minor": 2
}
