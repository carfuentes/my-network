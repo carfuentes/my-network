{
 "cells": [
  {
   "cell_type": "code",
   "execution_count": 1,
   "metadata": {
    "collapsed": true
   },
   "outputs": [],
   "source": [
    "def count_connections (filename):\n",
    "    with open(filename,\"r\") as f:\n",
    "        connections={}\n",
    "        for line in f:\n",
    "            if line.startswith(\"#\") or line.startswith(\"Source\"):\n",
    "                continue\n",
    "            connections.setdefault(line.split()[0],[0,0])\n",
    "            connections.setdefault(line.split()[1],[0,0])\n",
    "\n",
    "            connections[line.split()[0]][1]+=1\n",
    "            connections[line.split()[1]][0]+=1\n",
    "\n",
    "    return connections "
   ]
  },
  {
   "cell_type": "code",
   "execution_count": 2,
   "metadata": {
    "collapsed": true
   },
   "outputs": [],
   "source": [
    "def get_cyclic_net(infile, outfile):\n",
    "    #Initialization\n",
    "    not_cyclic=[]\n",
    "    flat_values=[0]\n",
    "    connections={}\n",
    "    \n",
    "    #opening and reading infile\n",
    "    f= open(infile,\"r\")\n",
    "    my_lines= f.readlines()\n",
    "    \n",
    "    #iteratively selecting nodes with at least in-degree and out-degree more than 0\n",
    "    while len(list(filter(lambda x: x==0, flat_values))) != 0:\n",
    "        my_future_lines=[]\n",
    "        connections={}\n",
    "        for line in my_lines:\n",
    "            next_line=False\n",
    "\n",
    "            if line.startswith(\"#\") or line.startswith(\"Source\") or line.split()[0] == line.split()[1]:\n",
    "                continue   \n",
    "\n",
    "            connections.setdefault(line.split()[0],[0,0])\n",
    "            connections.setdefault(line.split()[1],[0,0])\n",
    "\n",
    "            for node in not_cyclic:\n",
    "                if node in line:\n",
    "                    next_line=True\n",
    "                    break\n",
    "            if next_line:\n",
    "                continue\n",
    "\n",
    "            connections[line.split()[0]][1]+=1\n",
    "            connections[line.split()[1]][0]+=1\n",
    "            \n",
    "            my_future_lines.append(line) \n",
    "\n",
    "        not_cyclic= [key for key in connections.keys() if 0 in connections[key]]\n",
    "        flat_values=[num for el in list(connections.values()) for num in el]\n",
    "        my_lines=my_future_lines\n",
    "    \n",
    "    with open(outfile,\"w\") as out:\n",
    "        for line in my_lines:\n",
    "            out.write(line)\n",
    "    return connections\n"
   ]
  },
  {
   "cell_type": "code",
   "execution_count": 3,
   "metadata": {},
   "outputs": [],
   "source": [
    "mypruned_DBTS_genes= get_cyclic_net(\"network_edge_list_DBTBS.csv\",\"pruned_net.csv\").keys()\n",
    "#myconnections_ENCODE=get_cyclic_net(\"network_edge_list_ENCODE.csv\",\"pruned_net.csv\")\n",
    "#print(len(myconnections_ENCODE))"
   ]
  },
  {
   "cell_type": "code",
   "execution_count": 2,
   "metadata": {
    "collapsed": true
   },
   "outputs": [],
   "source": [
    "import os"
   ]
  },
  {
   "cell_type": "code",
   "execution_count": 3,
   "metadata": {},
   "outputs": [
    {
     "name": "stdout",
     "output_type": "stream",
     "text": [
      "network_edge_list_ENCODE.csv 68\n",
      "network_edge_list_modENCODE.csv 177\n",
      "network_edge_list_YEASTRACT.csv 262\n",
      "network_edge_list_EcoCyc.csv 70\n",
      "network_edge_list_DBTBS.csv 13\n"
     ]
    }
   ],
   "source": [
    "csv_files= [file for file in os.listdir() if file.startswith(\"network_edge_list\")]\n",
    "\n",
    "for file in csv_files:\n",
    "    print(file, len(get_cyclic_net(file, os.path.join(\"pruned/\", \"PRUNED_\"+file))))\n"
   ]
  },
  {
   "cell_type": "code",
   "execution_count": 6,
   "metadata": {},
   "outputs": [
    {
     "name": "stdout",
     "output_type": "stream",
     "text": [
      "[5, 280]\n"
     ]
    }
   ],
   "source": [
    "print(count_connections(\"network_edge_list_ENCODE.csv\")[\"ATF3\"])"
   ]
  }
 ],
 "metadata": {
  "kernelspec": {
   "display_name": "Python 3",
   "language": "python",
   "name": "python3"
  },
  "language_info": {
   "codemirror_mode": {
    "name": "ipython",
    "version": 3
   },
   "file_extension": ".py",
   "mimetype": "text/x-python",
   "name": "python",
   "nbconvert_exporter": "python",
   "pygments_lexer": "ipython3",
   "version": "3.5.2"
  }
 },
 "nbformat": 4,
 "nbformat_minor": 2
}
