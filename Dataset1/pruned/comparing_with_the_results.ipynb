{
 "cells": [
  {
   "cell_type": "code",
   "execution_count": 2,
   "metadata": {
    "collapsed": true
   },
   "outputs": [],
   "source": [
    "import os"
   ]
  },
  {
   "cell_type": "code",
   "execution_count": 3,
   "metadata": {
    "collapsed": true
   },
   "outputs": [],
   "source": [
    "def count_connections (filename):\n",
    "    with open(filename,\"r\") as f:\n",
    "        connections={}\n",
    "        for line in f:\n",
    "            if line.startswith(\"#\") or line.startswith(\"Source\"):\n",
    "                continue\n",
    "            connections.setdefault(line.split()[0],[0,0])\n",
    "            connections.setdefault(line.split()[1],[0,0])\n",
    "\n",
    "            connections[line.split()[0]][1]+=1\n",
    "            connections[line.split()[1]][0]+=1\n",
    "\n",
    "    return connections      "
   ]
  },
  {
   "cell_type": "code",
   "execution_count": null,
   "metadata": {
    "collapsed": true
   },
   "outputs": [],
   "source": []
  },
  {
   "cell_type": "code",
   "execution_count": 16,
   "metadata": {
    "collapsed": true
   },
   "outputs": [],
   "source": [
    "def get_reservoir_nodes(node_files):\n",
    "    reservoir_by_file={}\n",
    "    for filename in node_files:\n",
    "        with open(filename,\"r\") as f:\n",
    "            name=filename[filename.index(\"list\")+5:filename.index(\".csv\")]\n",
    "            genes=[]\n",
    "            for line in f:\n",
    "                if line.startswith(\"#\") or line.startswith(\"Gene\"):\n",
    "                    continue\n",
    "                if line.split()[3] == \"Reservoir\":\n",
    "                    genes.append(line.split()[0])\n",
    "            reservoir_by_file[name]=genes\n",
    "    return reservoir_by_file"
   ]
  },
  {
   "cell_type": "code",
   "execution_count": 6,
   "metadata": {
    "collapsed": true
   },
   "outputs": [],
   "source": []
  },
  {
   "cell_type": "code",
   "execution_count": 5,
   "metadata": {
    "collapsed": true
   },
   "outputs": [],
   "source": [
    "def get_pruned_nodes(pruned_files):\n",
    "    pruned_by_file={}\n",
    "    for filename in pruned_files:\n",
    "        genes=[]\n",
    "        name=filename[filename.index(\"list\")+5:filename.index(\".csv\")]\n",
    "        genes=[key for key in count_connections(filename).keys()]\n",
    "        pruned_by_file[name]=genes\n",
    "    \n",
    "    return pruned_by_file"
   ]
  },
  {
   "cell_type": "code",
   "execution_count": 12,
   "metadata": {
    "collapsed": true
   },
   "outputs": [],
   "source": [
    "node_files= [file for file in os.listdir() if file.startswith(\"network_node_list\")]\n",
    "pruned_files= [file for file in os.listdir() if file.startswith(\"networkx\")]"
   ]
  },
  {
   "cell_type": "code",
   "execution_count": 17,
   "metadata": {},
   "outputs": [
    {
     "name": "stdout",
     "output_type": "stream",
     "text": [
      "modENCODE  set()  pruned  486  reservoir  486\n",
      "ENCODE  set()  pruned  207  reservoir  207\n",
      "EcoCyc  set()  pruned  70  reservoir  70\n",
      "DBTBS  set()  pruned  13  reservoir  13\n",
      "YEASTRACT  set()  pruned  289  reservoir  289\n"
     ]
    }
   ],
   "source": [
    "for database in [\"modENCODE\", \"ENCODE\",\"EcoCyc\",'DBTBS','YEASTRACT']:\n",
    "    pruned_set=set(get_pruned_nodes(pruned_files)[database])\n",
    "    reservoir_set=set(get_reservoir_nodes(node_files)[database])\n",
    "    print(database, \"\", pruned_set - reservoir_set, \" pruned \", len(pruned_set), \" reservoir \", len(reservoir_set))"
   ]
  },
  {
   "cell_type": "code",
   "execution_count": null,
   "metadata": {},
   "outputs": [],
   "source": [
    "\n"
   ]
  },
  {
   "cell_type": "code",
   "execution_count": null,
   "metadata": {
    "collapsed": true
   },
   "outputs": [],
   "source": []
  },
  {
   "cell_type": "code",
   "execution_count": null,
   "metadata": {
    "collapsed": true
   },
   "outputs": [],
   "source": []
  },
  {
   "cell_type": "code",
   "execution_count": null,
   "metadata": {
    "collapsed": true
   },
   "outputs": [],
   "source": []
  }
 ],
 "metadata": {
  "kernelspec": {
   "display_name": "Python 3",
   "language": "python",
   "name": "python3"
  },
  "language_info": {
   "codemirror_mode": {
    "name": "ipython",
    "version": 3
   },
   "file_extension": ".py",
   "mimetype": "text/x-python",
   "name": "python",
   "nbconvert_exporter": "python",
   "pygments_lexer": "ipython3",
   "version": "3.5.2"
  }
 },
 "nbformat": 4,
 "nbformat_minor": 2
}
