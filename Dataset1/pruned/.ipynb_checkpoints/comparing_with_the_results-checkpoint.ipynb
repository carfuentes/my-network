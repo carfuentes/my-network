{
 "cells": [
  {
   "cell_type": "code",
   "execution_count": 9,
   "metadata": {},
   "outputs": [],
   "source": [
    "import os"
   ]
  },
  {
   "cell_type": "code",
   "execution_count": 22,
   "metadata": {
    "collapsed": true
   },
   "outputs": [],
   "source": [
    "def count_connections (filename):\n",
    "    with open(filename,\"r\") as f:\n",
    "        connections={}\n",
    "        for line in f:\n",
    "            if line.startswith(\"#\") or line.startswith(\"S\"):\n",
    "                continue\n",
    "            connections.setdefault(line.split()[0],[0,0])\n",
    "            connections.setdefault(line.split()[1],[0,0])\n",
    "\n",
    "            connections[line.split()[0]][1]+=1\n",
    "            connections[line.split()[1]][0]+=1\n",
    "\n",
    "    return connections      "
   ]
  },
  {
   "cell_type": "code",
   "execution_count": 23,
   "metadata": {
    "collapsed": true
   },
   "outputs": [],
   "source": [
    "node_files= [file for file in os.listdir() if file.startswith(\"network_node_list\")]\n",
    "pruned_files= [file for file in os.listdir() if file.startswith(\"PRUNED\")]"
   ]
  },
  {
   "cell_type": "code",
   "execution_count": 27,
   "metadata": {
    "collapsed": true
   },
   "outputs": [],
   "source": [
    "def get_reservoir_nodes(node_files):\n",
    "    reservoir_by_file={}\n",
    "    for filename in node_files:\n",
    "        with open(filename,\"r\") as f:\n",
    "            name=filename[filename.index(\"list\")+5:filename.index(\".csv\")]\n",
    "            genes=[]\n",
    "            for line in f:\n",
    "                if line.startswith(\"#\") or line.startswith(\"G\"):\n",
    "                    continue\n",
    "                if line.split()[3] == \"Reservoir\":\n",
    "                    genes.append(line.split()[0])\n",
    "            reservoir_by_file[name]=genes\n",
    "    return reservoir_by_file"
   ]
  },
  {
   "cell_type": "code",
   "execution_count": 28,
   "metadata": {},
   "outputs": [],
   "source": [
    "modENCODE_reservoir= set(get_reservoir_nodes(node_files)['modENCODE'])\n",
    "ENCODE_reservoir= set(get_reservoir_nodes(node_files)['ENCODE'])"
   ]
  },
  {
   "cell_type": "code",
   "execution_count": 33,
   "metadata": {
    "collapsed": true
   },
   "outputs": [],
   "source": [
    "def get_pruned_nodes(pruned_files):\n",
    "    pruned_by_file={}\n",
    "    for filename in pruned_files:\n",
    "        genes=[]\n",
    "        name=filename[filename.index(\"list\")+5:filename.index(\".csv\")]\n",
    "        genes=[key for key in count_connections(filename).keys()]\n",
    "        pruned_by_file[name]=genes\n",
    "    \n",
    "    return pruned_by_file"
   ]
  },
  {
   "cell_type": "code",
   "execution_count": 39,
   "metadata": {},
   "outputs": [],
   "source": [
    "modENCODE_pruned= set(get_pruned_nodes(pruned_files)['modENCODE'])\n",
    "ENCODE_pruned= set(get_pruned_nodes(pruned_files)['ENCODE'])"
   ]
  },
  {
   "cell_type": "code",
   "execution_count": 46,
   "metadata": {},
   "outputs": [],
   "source": [
    "DBTBS_pruned= set(get_pruned_nodes(pruned_files)['DBTBS'])\n",
    "DBTBS_reservoir= set(get_reservoir_nodes(node_files)['DBTBS'])\n",
    "\n",
    "YEASTRACT_pruned= set(get_pruned_nodes(pruned_files)['YEASTRACT'])\n",
    "YEASTRACT_reservoir= set(get_reservoir_nodes(node_files)['YEASTRACT'])"
   ]
  },
  {
   "cell_type": "code",
   "execution_count": 49,
   "metadata": {},
   "outputs": [
    {
     "data": {
      "text/plain": [
       "{'ATF3',\n",
       " 'BATF',\n",
       " 'BHLHE40',\n",
       " 'BRCA1',\n",
       " 'BRF2',\n",
       " 'CCNT2',\n",
       " 'CHD2',\n",
       " 'CTBP2',\n",
       " 'CTCF',\n",
       " 'CTCFL',\n",
       " 'E2F4',\n",
       " 'EGR1',\n",
       " 'ELF1',\n",
       " 'ELK4',\n",
       " 'ETS1',\n",
       " 'HDAC2',\n",
       " 'HNF4G',\n",
       " 'HSF1',\n",
       " 'IRF3',\n",
       " 'IRF4',\n",
       " 'JUN',\n",
       " 'JUNB',\n",
       " 'JUND',\n",
       " 'MAFF',\n",
       " 'MAFK',\n",
       " 'MEF2A',\n",
       " 'MEF2C',\n",
       " 'NFYA',\n",
       " 'NFYB',\n",
       " 'NR2C2',\n",
       " 'PAX5',\n",
       " 'POU2F2',\n",
       " 'POU5F1',\n",
       " 'PPARGC1A',\n",
       " 'PRDM1',\n",
       " 'RDBP',\n",
       " 'SIN3A',\n",
       " 'SIRT6',\n",
       " 'SIX5',\n",
       " 'SMARCA4',\n",
       " 'SMARCB1',\n",
       " 'SMARCC1',\n",
       " 'SMARCC2',\n",
       " 'SMC3',\n",
       " 'SP1',\n",
       " 'SP2',\n",
       " 'SPI1',\n",
       " 'SREBF1',\n",
       " 'SREBF2',\n",
       " 'SRF',\n",
       " 'STAT1',\n",
       " 'STAT2',\n",
       " 'STAT3',\n",
       " 'SUZ12',\n",
       " 'TAF7',\n",
       " 'TAL1',\n",
       " 'TBP',\n",
       " 'TCF12',\n",
       " 'TCF4',\n",
       " 'TFAP2A',\n",
       " 'TFAP2C',\n",
       " 'TRIM28',\n",
       " 'USF1',\n",
       " 'USF2',\n",
       " 'WRNIP1',\n",
       " 'ZBTB33',\n",
       " 'ZBTB7A',\n",
       " 'ZEB1',\n",
       " 'ZNF143',\n",
       " 'ZNF263',\n",
       " 'hsa-let-7a',\n",
       " 'hsa-let-7b',\n",
       " 'hsa-miR-1',\n",
       " 'hsa-miR-101',\n",
       " 'hsa-miR-10a',\n",
       " 'hsa-miR-10b',\n",
       " 'hsa-miR-1205',\n",
       " 'hsa-miR-1207-3p',\n",
       " 'hsa-miR-1207-5p',\n",
       " 'hsa-miR-1208',\n",
       " 'hsa-miR-1226',\n",
       " 'hsa-miR-1228',\n",
       " 'hsa-miR-124',\n",
       " 'hsa-miR-1245',\n",
       " 'hsa-miR-1248',\n",
       " 'hsa-miR-125a-3p',\n",
       " 'hsa-miR-125a-5p',\n",
       " 'hsa-miR-1260',\n",
       " 'hsa-miR-1279',\n",
       " 'hsa-miR-128',\n",
       " 'hsa-miR-129-3p',\n",
       " 'hsa-miR-129-5p',\n",
       " 'hsa-miR-130a',\n",
       " 'hsa-miR-130b',\n",
       " 'hsa-miR-132',\n",
       " 'hsa-miR-133a',\n",
       " 'hsa-miR-135a',\n",
       " 'hsa-miR-135b',\n",
       " 'hsa-miR-142-3p',\n",
       " 'hsa-miR-142-5p',\n",
       " 'hsa-miR-144',\n",
       " 'hsa-miR-145',\n",
       " 'hsa-miR-150',\n",
       " 'hsa-miR-153',\n",
       " 'hsa-miR-155',\n",
       " 'hsa-miR-17',\n",
       " 'hsa-miR-185',\n",
       " 'hsa-miR-18a',\n",
       " 'hsa-miR-191',\n",
       " 'hsa-miR-192',\n",
       " 'hsa-miR-193a-3p',\n",
       " 'hsa-miR-193b',\n",
       " 'hsa-miR-194',\n",
       " 'hsa-miR-196a',\n",
       " 'hsa-miR-199b-5p',\n",
       " 'hsa-miR-19a',\n",
       " 'hsa-miR-200c',\n",
       " 'hsa-miR-20a',\n",
       " 'hsa-miR-212',\n",
       " 'hsa-miR-216a',\n",
       " 'hsa-miR-216b',\n",
       " 'hsa-miR-217',\n",
       " 'hsa-miR-219-5p',\n",
       " 'hsa-miR-23b',\n",
       " 'hsa-miR-25',\n",
       " 'hsa-miR-27b',\n",
       " 'hsa-miR-29b',\n",
       " 'hsa-miR-302c',\n",
       " 'hsa-miR-326',\n",
       " 'hsa-miR-330-3p',\n",
       " 'hsa-miR-335',\n",
       " 'hsa-miR-338-3p',\n",
       " 'hsa-miR-365',\n",
       " 'hsa-miR-375',\n",
       " 'hsa-miR-483-3p',\n",
       " 'hsa-miR-548c-3p',\n",
       " 'hsa-miR-564',\n",
       " 'hsa-miR-589',\n",
       " 'hsa-miR-595',\n",
       " 'hsa-miR-612',\n",
       " 'hsa-miR-615-5p',\n",
       " 'hsa-miR-636',\n",
       " 'hsa-miR-638',\n",
       " 'hsa-miR-645',\n",
       " 'hsa-miR-648',\n",
       " 'hsa-miR-657',\n",
       " 'hsa-miR-663',\n",
       " 'hsa-miR-766',\n",
       " 'hsa-miR-93',\n",
       " 'hsa-miR-944'}"
      ]
     },
     "execution_count": 49,
     "metadata": {},
     "output_type": "execute_result"
    }
   ],
   "source": [
    "DBTBS_pruned == DBTBS_reservoir\n",
    "ENCODE_reservoir - ENCODE_pruned\n"
   ]
  },
  {
   "cell_type": "code",
   "execution_count": null,
   "metadata": {
    "collapsed": true
   },
   "outputs": [],
   "source": []
  }
 ],
 "metadata": {
  "kernelspec": {
   "display_name": "Python 3",
   "language": "python",
   "name": "python3"
  },
  "language_info": {
   "codemirror_mode": {
    "name": "ipython",
    "version": 3
   },
   "file_extension": ".py",
   "mimetype": "text/x-python",
   "name": "python",
   "nbconvert_exporter": "python",
   "pygments_lexer": "ipython3",
   "version": "3.5.2"
  }
 },
 "nbformat": 4,
 "nbformat_minor": 2
}
