{
 "cells": [
  {
   "cell_type": "code",
   "execution_count": 6,
   "metadata": {
    "collapsed": true
   },
   "outputs": [],
   "source": [
    "import warnings\n",
    "\n",
    "# The workhorses\n",
    "import numpy as np\n",
    "import scipy.integrate\n",
    "import scipy.optimize"
   ]
  },
  {
   "cell_type": "code",
   "execution_count": 7,
   "metadata": {
    "collapsed": true
   },
   "outputs": [],
   "source": [
    "def count_connections (filename):\n",
    "    with open(filename,\"r\") as f:\n",
    "        connections={}\n",
    "        for line in f:\n",
    "            if line.startswith(\"#\") or line.startswith(\"Source\"):\n",
    "                continue\n",
    "            connections.setdefault(line.split()[0],[0,0])\n",
    "            connections.setdefault(line.split()[1],[0,0])\n",
    "\n",
    "            connections[line.split()[0]][1]+=1\n",
    "            connections[line.split()[1]][0]+=1\n",
    "\n",
    "    return connections "
   ]
  },
  {
   "cell_type": "code",
   "execution_count": 8,
   "metadata": {
    "collapsed": true
   },
   "outputs": [],
   "source": [
    "def build_adj_list(filename, gene_list):\n",
    "    with open(filename,\"r\") as f:\n",
    "        adj_matrix=np.zeros((len(gene_list),len(gene_list)))\n",
    "        for line in f:\n",
    "            if line.startswith(\"#\") or line.startswith(\"Source\"):\n",
    "                continue\n",
    "            \n",
    "            source=gene_list.index(line.split()[0])\n",
    "            target=gene_list.index(line.split()[1])\n",
    "    \n",
    "            if line.split()[2] == \"+\":\n",
    "                adj_matrix[target][source]=1 \n",
    "            elif line.split()[2] == \"-\":\n",
    "                adj_matrix[target][source]=-1 \n",
    "                \n",
    "    return adj_matrix\n",
    "\n",
    "\n",
    "\n",
    "# Define right hand side of ODEs\n",
    "def update_gene(weight, regulator, gene, n, K, decay):\n",
    "    if weight == 0:\n",
    "        return 0\n",
    "    elif weight > 0:\n",
    "        return ((weight * regulator ** n ) / (K + regulator ** n)) - (decay * gene)\n",
    "    elif weight <0:\n",
    "        return (weight / (regulator / K) ** n) -(decay * gene) \n",
    "\n",
    "                \n",
    "def dx_dt(x, t, matrix_betas, gene_names, n, K,decay):\n",
    "    x_updated= [];\n",
    "    for i, gene in enumerate(gene_names):\n",
    "        x_updated.append(x[i]+ (sum(update_gene(weight, x[j], x[i], n, K, decay[i]) for j, weight in enumerate(matrix_betas[i]))))\n",
    "              \n",
    "    return np.array(x_updated)\n"
   ]
  },
  {
   "cell_type": "code",
   "execution_count": 9,
   "metadata": {},
   "outputs": [
    {
     "name": "stdout",
     "output_type": "stream",
     "text": [
      "[[  1.00000000e+000   1.00000000e+000   1.00000000e+000   1.00000000e+000\n",
      "    1.00000000e+000   1.00000000e+000   1.00000000e+000   1.00000000e+000\n",
      "    1.00000000e+000   1.00000000e+000   1.00000000e+000   1.00000000e+000\n",
      "    1.00000000e+000]\n",
      " [  7.11125545e-008  -3.42341302e-010   8.65107784e-001   8.31977029e-001\n",
      "    1.00001225e+000   8.65107814e-001   1.00001225e+000   1.00001225e+000\n",
      "    1.00001225e+000   9.99887649e-001   9.99887357e-001   8.65245996e-001\n",
      "    1.00001015e+000]\n",
      " [  2.42188757e-263   1.09902218e-259   3.02407524e+209   3.65830310e-263\n",
      "    1.17088649e+195   2.02956702e-263   4.06149028e-263   1.23483696e+169\n",
      "    2.72272671e-263   4.92776730e+231   4.72952136e+233   1.69388749e+166\n",
      "    3.29486944e-318]\n",
      " [  4.10988507e-319   2.19726131e-316   2.19726012e-316   2.19726289e-316\n",
      "    5.51718906e-313   2.47032823e-323   4.94065646e-324   2.19724985e-316\n",
      "    9.33678148e-313   5.51718906e-313   0.00000000e+000   0.00000000e+000\n",
      "    0.00000000e+000]\n",
      " [  0.00000000e+000   5.51718906e-313   2.19726566e-316   2.19726763e-316\n",
      "    2.19726842e-316   5.51718906e-313   0.00000000e+000   0.00000000e+000\n",
      "    2.19725617e-316   2.19726921e-316   2.19727119e-316   5.51718906e-313\n",
      "    3.95252517e-323]\n",
      " [  2.19725340e-316   2.19725538e-316   0.00000000e+000   2.33419537e-313\n",
      "    2.96439388e-323   2.19725064e-316   2.19727356e-316   2.33419537e-313\n",
      "    2.96439388e-323   2.19725380e-316   9.88131292e-324   4.94065646e-324\n",
      "    2.19724985e-316]\n",
      " [  9.88131292e-324   9.88131292e-324   4.94065646e-324   2.19728068e-316\n",
      "    6.92046487e-310   6.92057164e-310   9.88131292e-324   2.47032823e-323\n",
      "    2.47032823e-323   6.92046487e-310   6.92053380e-310   1.48539705e-313\n",
      "    1.48539705e-313]\n",
      " [  1.48539705e-313   9.88131292e-324   2.19728660e-316   2.19728858e-316\n",
      "    0.00000000e+000   0.00000000e+000   6.92046487e-310   6.92053380e-310\n",
      "    4.66839074e-313   4.66839074e-313   4.66839074e-313   6.92046487e-310\n",
      "    6.92053380e-310]\n",
      " [  8.48798316e-313   8.48798316e-313   8.48798316e-313   7.90505033e-323\n",
      "    2.19728265e-316   2.19728463e-316   2.19728581e-316   1.48539705e-313\n",
      "    2.96439388e-323   2.19727989e-316   2.19729056e-316   2.47032823e-323\n",
      "    2.47032823e-323]\n",
      " [  2.47032823e-323   2.47032823e-323   4.94065646e-324   2.19729609e-316\n",
      "    6.92046487e-310   6.92053530e-310   9.88131292e-324   3.95252517e-323\n",
      "    3.95252517e-323   6.92046487e-310   6.92056912e-310   6.36598737e-314\n",
      "    6.36598738e-314]]\n"
     ]
    },
    {
     "name": "stderr",
     "output_type": "stream",
     "text": [
      "/home/carmen/anaconda3/lib/python3.6/site-packages/scipy/integrate/odepack.py:218: ODEintWarning: Excess work done on this call (perhaps wrong Dfun type). Run with full_output = 1 to get quantitative information.\n",
      "  warnings.warn(warning_msg, ODEintWarning)\n"
     ]
    }
   ],
   "source": [
    "#Set up gene list\n",
    "gene_list=[key for key in count_connections(\"pruned_net.csv\").keys()]\n",
    "\n",
    "#build matrix\n",
    "matrix=build_adj_list(\"pruned_net.csv\", gene_list)\n",
    "\n",
    "# Initial conditions ##MISMO ORDEN QUE GENE_LIST\n",
    "x0=np.ones(len(gene_list))\n",
    "\n",
    "# Time points\n",
    "t = np.linspace(0, 30, 1000)\n",
    "\n",
    "# Choose parameters\n",
    "K = 10.0\n",
    "n = 3\n",
    "decay=np.ones(len(gene_list))\n",
    "# Solve it!\n",
    "x = scipy.integrate.odeint(dx_dt, x0, t, args=(matrix, gene_list, n, K,decay))\n",
    "print(x[:10])"
   ]
  },
  {
   "cell_type": "code",
   "execution_count": 19,
   "metadata": {},
   "outputs": [
    {
     "name": "stdout",
     "output_type": "stream",
     "text": [
      "[ -3.00200000e+03  -2.00281818e+03  -1.00090909e+03  -1.00090909e+03\n",
      "   9.09090909e-02  -1.00090909e+03   9.09090909e-02   9.09090909e-02\n",
      "   9.09090909e-02  -8.18181818e-01  -8.18181818e-01  -1.00000000e+03\n",
      "   9.09090909e-02]\n",
      "[[ 0. -1.  0.  0.  0.  0.  0.  0.  0.  0.  0.  0.  0.]\n",
      " [-1.  0.  0.  0.  0.  0.  0.  0.  0.  0.  0.  0.  0.]\n",
      " [-1. -1.  0. -1.  0.  0.  0.  0.  0.  0.  0.  0.  0.]\n",
      " [ 0.  0.  0.  0.  0.  0.  0.  0.  0.  0.  1.  0.  0.]\n",
      " [ 0.  1.  1.  1.  0.  1.  1.  1.  1.  1.  1.  0.  0.]\n",
      " [ 0.  0.  0.  0.  0.  0.  0.  0.  0.  1.  0.  0.  0.]\n",
      " [ 0.  0.  0.  0.  1.  0.  0.  0.  0.  0.  0.  0.  0.]\n",
      " [ 0.  1.  0.  0.  0.  0.  0.  0.  0.  0.  0.  0.  0.]\n",
      " [-1.  0.  0.  0.  0.  0.  0.  0.  0.  0.  0.  0.  0.]\n",
      " [ 0.  0.  0.  0.  0. -1.  0.  0.  0.  0.  0.  0.  0.]\n",
      " [ 0.  0. -1.  0.  0.  0.  0.  0.  0.  0.  0.  0.  0.]\n",
      " [ 0.  0.  0.  0.  0.  0.  0.  0.  0.  0.  0.  0.  1.]\n",
      " [ 0.  0.  0.  0.  0.  0.  0.  0.  0.  0.  0. -1.  0.]]\n",
      "['rok', 'comk', 'abrb', 'sigh', 'siga', 'resd', 'sigd', 'med', 'sinr', 'phop', 'spo0a', 'sigg', 'spovt']\n"
     ]
    }
   ],
   "source": [
    "print(dx_dt(x0,t,matrix,gene_list,n,K,decay))\n",
    "print(matrix.T)\n",
    "print(gene_list)"
   ]
  },
  {
   "cell_type": "code",
   "execution_count": 11,
   "metadata": {
    "collapsed": true
   },
   "outputs": [],
   "source": [
    "import networkx as nx"
   ]
  },
  {
   "cell_type": "code",
   "execution_count": 13,
   "metadata": {},
   "outputs": [
    {
     "data": {
      "text/plain": [
       "[('rok', 'comk', {'mode': '-'}),\n",
       " ('comk', 'rok', {'mode': '-'}),\n",
       " ('abrb', 'rok', {'mode': '-'}),\n",
       " ('abrb', 'sigh', {'mode': '-'}),\n",
       " ('abrb', 'comk', {'mode': '-'}),\n",
       " ('sigh', 'spo0a', {'mode': '+'}),\n",
       " ('siga', 'resd', {'mode': '+'}),\n",
       " ('siga', 'abrb', {'mode': '+'}),\n",
       " ('siga', 'sigd', {'mode': '+'}),\n",
       " ('siga', 'sigh', {'mode': '+'}),\n",
       " ('siga', 'med', {'mode': '+'}),\n",
       " ('siga', 'sinr', {'mode': '+'}),\n",
       " ('siga', 'comk', {'mode': '+'}),\n",
       " ('siga', 'phop', {'mode': '+'}),\n",
       " ('siga', 'spo0a', {'mode': '+'}),\n",
       " ('resd', 'phop', {'mode': '+'}),\n",
       " ('sigd', 'siga', {'mode': '+'}),\n",
       " ('med', 'comk', {'mode': '+'}),\n",
       " ('sinr', 'rok', {'mode': '-'}),\n",
       " ('phop', 'resd', {'mode': '-'}),\n",
       " ('spo0a', 'abrb', {'mode': '-'}),\n",
       " ('sigg', 'spovt', {'mode': '+'}),\n",
       " ('spovt', 'sigg', {'mode': '-'})]"
      ]
     },
     "execution_count": 13,
     "metadata": {},
     "output_type": "execute_result"
    }
   ],
   "source": [
    "file=\"pruned_net.csv\"\n",
    "net=nx.read_edgelist(file, comments='#', delimiter=\"\\t\", nodetype =str,  data=(('mode',str),), create_using=nx.DiGraph())\n",
    "net.edges(data=True)"
   ]
  },
  {
   "cell_type": "code",
   "execution_count": 23,
   "metadata": {},
   "outputs": [
    {
     "name": "stdout",
     "output_type": "stream",
     "text": [
      "[[ 0.  1.  0.  0.  0.  0.  0.  0.  0.  0.  0.  0.  0.]\n",
      " [ 1.  0.  0.  0.  0.  0.  0.  0.  0.  0.  0.  0.  0.]\n",
      " [ 1.  1.  0.  1.  0.  0.  0.  0.  0.  0.  0.  0.  0.]\n",
      " [ 0.  0.  0.  0.  0.  0.  0.  0.  0.  0.  1.  0.  0.]\n",
      " [ 0.  1.  1.  1.  0.  1.  1.  1.  1.  1.  1.  0.  0.]\n",
      " [ 0.  0.  0.  0.  0.  0.  0.  0.  0.  1.  0.  0.  0.]\n",
      " [ 0.  0.  0.  0.  1.  0.  0.  0.  0.  0.  0.  0.  0.]\n",
      " [ 0.  1.  0.  0.  0.  0.  0.  0.  0.  0.  0.  0.  0.]\n",
      " [ 1.  0.  0.  0.  0.  0.  0.  0.  0.  0.  0.  0.  0.]\n",
      " [ 0.  0.  0.  0.  0.  1.  0.  0.  0.  0.  0.  0.  0.]\n",
      " [ 0.  0.  1.  0.  0.  0.  0.  0.  0.  0.  0.  0.  0.]\n",
      " [ 0.  0.  0.  0.  0.  0.  0.  0.  0.  0.  0.  0.  1.]\n",
      " [ 0.  0.  0.  0.  0.  0.  0.  0.  0.  0.  0.  1.  0.]]\n"
     ]
    }
   ],
   "source": [
    "print(nx.to_numpy_matrix(net, nodelist=gene_list, order={\"C\"}))"
   ]
  },
  {
   "cell_type": "code",
   "execution_count": null,
   "metadata": {
    "collapsed": true
   },
   "outputs": [],
   "source": []
  },
  {
   "cell_type": "code",
   "execution_count": null,
   "metadata": {
    "collapsed": true
   },
   "outputs": [],
   "source": []
  },
  {
   "cell_type": "code",
   "execution_count": null,
   "metadata": {
    "collapsed": true
   },
   "outputs": [],
   "source": []
  }
 ],
 "metadata": {
  "kernelspec": {
   "display_name": "Python 3",
   "language": "python",
   "name": "python3"
  },
  "language_info": {
   "codemirror_mode": {
    "name": "ipython",
    "version": 3
   },
   "file_extension": ".py",
   "mimetype": "text/x-python",
   "name": "python",
   "nbconvert_exporter": "python",
   "pygments_lexer": "ipython3",
   "version": "3.5.2"
  }
 },
 "nbformat": 4,
 "nbformat_minor": 2
}
