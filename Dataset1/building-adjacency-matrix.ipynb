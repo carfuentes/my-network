{
 "cells": [
  {
   "cell_type": "code",
   "execution_count": 70,
   "metadata": {
    "collapsed": true
   },
   "outputs": [],
   "source": [
    "import numpy as np\n",
    "from matplotlib.pyplot import *\n",
    "import scipy.linalg"
   ]
  },
  {
   "cell_type": "code",
   "execution_count": 71,
   "metadata": {
    "collapsed": true
   },
   "outputs": [],
   "source": [
    "def count_connections (filename):\n",
    "    with open(filename,\"r\") as f:\n",
    "        connections={}\n",
    "        for line in f:\n",
    "            if line.startswith(\"#\") or line.startswith(\"Source\"):\n",
    "                continue\n",
    "            connections.setdefault(line.split()[0],[0,0])\n",
    "            connections.setdefault(line.split()[1],[0,0])\n",
    "\n",
    "            connections[line.split()[0]][1]+=1\n",
    "            connections[line.split()[1]][0]+=1\n",
    "\n",
    "    return connections "
   ]
  },
  {
   "cell_type": "code",
   "execution_count": 72,
   "metadata": {},
   "outputs": [],
   "source": [
    "def build_adj_list(filename, gene_list):\n",
    "    with open(filename,\"r\") as f:\n",
    "        adj_matrix=np.zeros((len(gene_list),len(gene_list)))\n",
    "        for line in f:\n",
    "            if line.startswith(\"#\") or line.startswith(\"Source\"):\n",
    "                continue\n",
    "            \n",
    "            source=gene_list.index(line.split()[0])\n",
    "            target=gene_list.index(line.split()[1])\n",
    "    \n",
    "            if line.split()[2] == \"+\":\n",
    "                adj_matrix[target][source]=1 \n",
    "            elif line.split()[2] == \"-\":\n",
    "                adj_matrix[target][source]=-1 \n",
    "                \n",
    "    return adj_matrix"
   ]
  },
  {
   "cell_type": "code",
   "execution_count": 73,
   "metadata": {},
   "outputs": [
    {
     "name": "stdout",
     "output_type": "stream",
     "text": [
      "[[ 0.  0.  0.  0.  0.  0.  0.  0. -1.  0.  0.  0.  1.]\n",
      " [ 0.  0.  0.  0.  0.  0.  0.  0.  0.  0.  0.  0.  1.]\n",
      " [ 0.  0.  0.  0.  0.  0.  0.  0.  0.  0.  0.  0.  1.]\n",
      " [ 0.  1.  0.  0.  0.  0.  0.  0. -1. -1.  0.  0.  1.]\n",
      " [ 0.  0.  0.  0.  0.  0.  0.  0.  0.  0.  0.  0.  1.]\n",
      " [ 0.  0.  0.  0.  0.  0. -1.  0.  0.  0.  0.  0.  0.]\n",
      " [ 0.  0.  0.  0.  0.  1.  0.  0.  0.  0.  0.  0.  0.]\n",
      " [ 1.  0.  0.  0.  0.  0.  0.  0.  0.  0.  0.  0.  1.]\n",
      " [ 0.  0.  0.  0.  0.  0.  0. -1.  0.  0.  0.  0.  1.]\n",
      " [ 0.  0. -1. -1.  0.  0.  0.  0. -1.  0.  0.  0.  0.]\n",
      " [ 0.  0.  0.  0.  0.  0.  0.  0.  0.  0.  0. -1.  1.]\n",
      " [ 0.  0.  0.  0.  0.  0.  0.  0.  0.  0.  1.  0.  1.]\n",
      " [ 0.  0.  0.  0.  1.  0.  0.  0.  0.  0.  0.  0.  0.]]\n"
     ]
    }
   ],
   "source": [
    "gene_list=[key for key in count_connections(\"pruned_net.csv\").keys()]\n",
    "\n",
    "\n",
    "matrix=build_adj_list(\"pruned_net.csv\", gene_list)\n",
    "print(matrix)"
   ]
  },
  {
   "cell_type": "code",
   "execution_count": 77,
   "metadata": {},
   "outputs": [
    {
     "name": "stdout",
     "output_type": "stream",
     "text": [
      "[[ 0.    0.    0.    0.    0.    0.    0.    0.   -0.95  0.    0.    0.\n",
      "   0.95]\n",
      " [ 0.    0.    0.    0.    0.    0.    0.    0.    0.    0.    0.    0.\n",
      "   0.95]\n",
      " [ 0.    0.    0.    0.    0.    0.    0.    0.    0.    0.    0.    0.\n",
      "   0.95]\n",
      " [ 0.    0.95  0.    0.    0.    0.    0.    0.   -0.95 -0.95  0.    0.\n",
      "   0.95]\n",
      " [ 0.    0.    0.    0.    0.    0.    0.    0.    0.    0.    0.    0.\n",
      "   0.95]\n",
      " [ 0.    0.    0.    0.    0.    0.   -0.95  0.    0.    0.    0.    0.    0.  ]\n",
      " [ 0.    0.    0.    0.    0.    0.95  0.    0.    0.    0.    0.    0.    0.  ]\n",
      " [ 0.95  0.    0.    0.    0.    0.    0.    0.    0.    0.    0.    0.\n",
      "   0.95]\n",
      " [ 0.    0.    0.    0.    0.    0.    0.   -0.95  0.    0.    0.    0.\n",
      "   0.95]\n",
      " [ 0.    0.   -0.95 -0.95  0.    0.    0.    0.   -0.95  0.    0.    0.    0.  ]\n",
      " [ 0.    0.    0.    0.    0.    0.    0.    0.    0.    0.    0.   -0.95\n",
      "   0.95]\n",
      " [ 0.    0.    0.    0.    0.    0.    0.    0.    0.    0.    0.95  0.\n",
      "   0.95]\n",
      " [ 0.    0.    0.    0.    0.95  0.    0.    0.    0.    0.    0.    0.    0.  ]]\n"
     ]
    }
   ],
   "source": [
    "rhoW0 = max(abs(scipy.linalg.eig(matrix)[0]))\n",
    "norm_matrix= (0.95/rhoW0)*matrix\n",
    "print(norm_matrix)"
   ]
  },
  {
   "cell_type": "code",
   "execution_count": null,
   "metadata": {
    "collapsed": true
   },
   "outputs": [],
   "source": []
  }
 ],
 "metadata": {
  "kernelspec": {
   "display_name": "Python 3",
   "language": "python",
   "name": "python3"
  },
  "language_info": {
   "codemirror_mode": {
    "name": "ipython",
    "version": 3
   },
   "file_extension": ".py",
   "mimetype": "text/x-python",
   "name": "python",
   "nbconvert_exporter": "python",
   "pygments_lexer": "ipython3",
   "version": "3.5.2"
  }
 },
 "nbformat": 4,
 "nbformat_minor": 2
}
