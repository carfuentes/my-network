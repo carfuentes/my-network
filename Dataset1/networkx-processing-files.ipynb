{
 "cells": [
  {
   "cell_type": "code",
   "execution_count": 108,
   "metadata": {
    "collapsed": true
   },
   "outputs": [],
   "source": [
    "import networkx as nx\n",
    "import matplotlib.pyplot as plt\n",
    "import os\n",
    "import random as rand"
   ]
  },
  {
   "cell_type": "code",
   "execution_count": 119,
   "metadata": {},
   "outputs": [],
   "source": [
    "G=nx.read_edgelist(\"network_edge_list_ENCODE.csv\", comments='#', delimiter=\"\\t\", nodetype =str,  data=(('mode',str),), create_using=nx.DiGraph())\n",
    "G.remove_nodes_from([\"Source\", \"Target\"])\n",
    "selfloops=G.selfloop_edges()\n"
   ]
  },
  {
   "cell_type": "code",
   "execution_count": 120,
   "metadata": {
    "collapsed": true
   },
   "outputs": [],
   "source": [
    "def get_cyclic_net(filename,output):\n",
    "    G=nx.read_edgelist(filename, comments='#', delimiter=\"\\t\", nodetype =str,  data=(('mode',str),), create_using=nx.DiGraph())\n",
    "    G.remove_nodes_from([\"Source\", \"Target\"])\n",
    "    selfloops=G.selfloop_edges()\n",
    "    G.remove_edges_from(G.selfloop_edges())\n",
    "    \n",
    "    while 0 in G.in_degree().values() or 0 in G.out_degree().values():\n",
    "        nodes_to_remove=[node for node in G if G.in_degree(node) == 0 or G.out_degree(node) == 0]\n",
    "        G.remove_nodes_from(nodes_to_remove)\n",
    "        \n",
    "    selfloops_in_reservoir=[edge for edge in selfloops if edge[0] in G.nodes()]\n",
    "    G.add_edges_from(selfloops_in_reservoir)\n",
    "    nx.write_edgelist(G, output,data=False)\n",
    "    return G\n",
    "    "
   ]
  },
  {
   "cell_type": "code",
   "execution_count": 121,
   "metadata": {
    "collapsed": true
   },
   "outputs": [],
   "source": [
    "file=\"network_edge_list_ENCODE.csv\""
   ]
  },
  {
   "cell_type": "code",
   "execution_count": 130,
   "metadata": {},
   "outputs": [
    {
     "data": {
      "text/plain": [
       "{('ESRRA', 'ESRRA'), ('REST', 'REST')}"
      ]
     },
     "execution_count": 130,
     "metadata": {},
     "output_type": "execute_result"
    }
   ],
   "source": [
    "net=get_cyclic_net(file,\"pruned_new_net.csv\")\n",
    "set(selfloops)-set(net.selfloop_edges())\n",
    "\n"
   ]
  },
  {
   "cell_type": "code",
   "execution_count": 106,
   "metadata": {},
   "outputs": [
    {
     "data": {
      "text/plain": [
       "['HNF4G',\n",
       " 'TCF4',\n",
       " 'JUND',\n",
       " 'GATA2',\n",
       " 'HEY1',\n",
       " 'EP300',\n",
       " 'FOSL2',\n",
       " 'FOXA2',\n",
       " 'SP1',\n",
       " 'TAL1',\n",
       " 'HNF4A',\n",
       " 'RXRA',\n",
       " 'HDAC2',\n",
       " 'FOXA1']"
      ]
     },
     "execution_count": 106,
     "metadata": {},
     "output_type": "execute_result"
    }
   ],
   "source": [
    "net.predecessors(\"GATA1\")"
   ]
  },
  {
   "cell_type": "code",
   "execution_count": null,
   "metadata": {
    "collapsed": true
   },
   "outputs": [],
   "source": []
  },
  {
   "cell_type": "code",
   "execution_count": 66,
   "metadata": {},
   "outputs": [
    {
     "data": {
      "text/plain": [
       "[['siga', 'sigd'],\n",
       " ['spovt', 'sigg'],\n",
       " ['abrb', 'sigh', 'spo0a'],\n",
       " ['comk', 'rok'],\n",
       " ['resd', 'phop']]"
      ]
     },
     "execution_count": 66,
     "metadata": {},
     "output_type": "execute_result"
    }
   ],
   "source": [
    "list(nx.simple_cycles(net))"
   ]
  },
  {
   "cell_type": "code",
   "execution_count": 99,
   "metadata": {},
   "outputs": [
    {
     "name": "stdout",
     "output_type": "stream",
     "text": [
      "network_edge_list_ENCODE.csv 207\n",
      "network_edge_list_modENCODE.csv 486\n",
      "network_edge_list_YEASTRACT.csv 289\n",
      "network_edge_list_EcoCyc.csv 70\n",
      "network_edge_list_DBTBS.csv 13\n"
     ]
    }
   ],
   "source": [
    "csv_files= [file for file in os.listdir() if file.startswith(\"network_edge_list\")]\n",
    "\n",
    "for file in csv_files:\n",
    "    print(file, len(get_cyclic_net(file,os.path.join(\"pruned/\", \"networkx_PRUNED_\"+file))))"
   ]
  },
  {
   "cell_type": "code",
   "execution_count": 115,
   "metadata": {},
   "outputs": [
    {
     "data": {
      "text/plain": [
       "matrix([[ 0.        ,  0.        ,  0.        ,  0.        ,  0.        ,\n",
       "          0.        , -0.19343336,  0.        ,  0.        ,  0.        ,\n",
       "          0.        ,  0.        ,  0.        ],\n",
       "        [ 0.        ,  0.        ,  0.        , -0.63702149,  0.        ,\n",
       "          0.        ,  0.        ,  0.        ,  0.        ,  0.        ,\n",
       "          0.        ,  0.        ,  0.        ],\n",
       "        [ 0.        ,  0.        ,  0.        ,  0.        ,  0.        ,\n",
       "          0.        ,  0.        ,  0.        ,  0.        ,  0.        ,\n",
       "          0.76358806,  0.        ,  0.        ],\n",
       "        [ 0.        , -0.10794218,  0.        ,  0.        ,  0.        ,\n",
       "          0.        ,  0.        ,  0.        ,  0.        ,  0.        ,\n",
       "          0.        ,  0.        ,  0.        ],\n",
       "        [ 0.        ,  0.        ,  0.        ,  0.        ,  0.        ,\n",
       "          0.        ,  0.        , -0.07511882,  0.        ,  0.        ,\n",
       "          0.        ,  0.        ,  0.        ],\n",
       "        [ 0.        ,  0.        ,  0.        ,  0.        ,  0.        ,\n",
       "          0.        ,  0.        ,  0.        ,  0.        ,  0.        ,\n",
       "          0.        ,  0.9295954 ,  0.        ],\n",
       "        [ 0.        , -0.99321431,  0.        , -0.55114131,  0.        ,\n",
       "          0.        ,  0.        ,  0.        , -0.2470057 ,  0.        ,\n",
       "          0.        ,  0.        ,  0.        ],\n",
       "        [ 0.        ,  0.        ,  0.        ,  0.        ,  0.00191654,\n",
       "          0.        ,  0.        ,  0.        ,  0.        ,  0.        ,\n",
       "          0.        ,  0.        ,  0.        ],\n",
       "        [ 0.01124437,  0.        ,  0.        ,  0.        ,  0.        ,\n",
       "          0.        ,  0.        ,  0.        ,  0.        ,  0.        ,\n",
       "          0.        ,  0.        ,  0.        ],\n",
       "        [ 0.        ,  0.        ,  0.        , -0.73711619,  0.        ,\n",
       "          0.        ,  0.        ,  0.        ,  0.        ,  0.        ,\n",
       "          0.        ,  0.        ,  0.        ],\n",
       "        [ 0.        ,  0.        , -0.29220589,  0.        ,  0.        ,\n",
       "          0.        ,  0.        ,  0.        ,  0.        ,  0.        ,\n",
       "          0.        ,  0.        ,  0.        ],\n",
       "        [ 0.62519748,  0.52527637,  0.38106813,  0.        ,  0.        ,\n",
       "          0.04195773,  0.67537684,  0.        ,  0.05441757,  0.8367398 ,\n",
       "          0.37598663,  0.        ,  0.39722172],\n",
       "        [ 0.        ,  0.50213984,  0.        ,  0.        ,  0.        ,\n",
       "          0.        ,  0.        ,  0.        ,  0.        ,  0.        ,\n",
       "          0.        ,  0.        ,  0.        ]])"
      ]
     },
     "execution_count": 115,
     "metadata": {},
     "output_type": "execute_result"
    }
   ],
   "source": [
    "for edge in net.edges_iter(data=\"mode\", default=0):\n",
    "    source,target,mode=edge\n",
    "    if mode== \"+\":\n",
    "        net[source][target][\"weight\"]= rand.uniform(0,1)\n",
    "    elif mode== \"-\":\n",
    "        net[source][target][\"weight\"]= rand.uniform(0,-1)\n",
    "    elif mode== 0:\n",
    "        net[source][target][\"weight\"]= rand.uniform(-1,1)\n",
    "\n",
    "nx.to_numpy_matrix(net)"
   ]
  },
  {
   "cell_type": "code",
   "execution_count": null,
   "metadata": {
    "collapsed": true
   },
   "outputs": [],
   "source": []
  },
  {
   "cell_type": "code",
   "execution_count": null,
   "metadata": {
    "collapsed": true
   },
   "outputs": [],
   "source": []
  }
 ],
 "metadata": {
  "kernelspec": {
   "display_name": "Python 3",
   "language": "python",
   "name": "python3"
  },
  "language_info": {
   "codemirror_mode": {
    "name": "ipython",
    "version": 3
   },
   "file_extension": ".py",
   "mimetype": "text/x-python",
   "name": "python",
   "nbconvert_exporter": "python",
   "pygments_lexer": "ipython3",
   "version": "3.5.2"
  }
 },
 "nbformat": 4,
 "nbformat_minor": 2
}
