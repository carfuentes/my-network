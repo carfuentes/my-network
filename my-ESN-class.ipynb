{
 "cells": [
  {
   "cell_type": "code",
   "execution_count": 31,
   "metadata": {
    "collapsed": true
   },
   "outputs": [],
   "source": [
    "import numpy as np\n",
    "import random as rand\n",
    "import matplotlib.pyplot as plt\n",
    "import scipy.linalg\n",
    "from sklearn.metrics import mean_squared_error\n",
    "from math import sqrt\n",
    "import scipy\n",
    "from sklearn.metrics import mutual_info_score\n"
   ]
  },
  {
   "cell_type": "code",
   "execution_count": 12,
   "metadata": {
    "collapsed": true
   },
   "outputs": [],
   "source": [
    "class ESN(object):\n",
    "    def __init__(self, res_size, in_size, out_size, spectral_radius):\n",
    "        self.res_size= res_size\n",
    "        self.in_size=in_size\n",
    "        self.out_size=out_size\n",
    "        self.spectral_radius= spectral_radius\n",
    "        self.W=None\n",
    "        self.Win=None\n",
    "        self.Wout=None\n",
    "        self.X=None\n",
    "        self.Y=None\n",
    "        self.x=np.zeros((self.res_size,1))\n",
    "    \n",
    "    def initialize(self): \n",
    "        np.random.seed(42)\n",
    "        self.Win=(np.random.rand(self.res_size,1+self.in_size)-0.5)*1\n",
    "        W0= np.random.rand(self.res_size,self.res_size)-0.5\n",
    "        rhoW0 = max(abs(scipy.linalg.eig(W0)[0]))\n",
    "        self.W= (self.spectral_radius/rhoW0)*W0\n",
    "    \n",
    "    def update_gene(weight, regulator, gene, n, K, decay):\n",
    "        if weight == 0:\n",
    "            return 0\n",
    "        elif weight > 0:\n",
    "            return ((weight * regulator ** n ) / (K + regulator ** n)) - (decay * gene)\n",
    "        elif weight <0:\n",
    "            return (weight / (regulator / K) ** n) -(decay * gene) \n",
    "\n",
    "\n",
    "    def dx_dt(x, t, matrix_betas, gene_names, n, K,decay):\n",
    "        x_updated= [];\n",
    "        for i, gene in enumerate(gene_names):\n",
    "            x_updated.append(x[i]+ (sum(update_gene(weight, x[j], x[i], n, K, decay[i]) for j, weight in enumerate(matrix_betas[i]))))\n",
    "\n",
    "        return np.array(x_updated)\n",
    "\n",
    "        \n",
    "    def collect_states(self, data, init_len, train_len, a=0.3):\n",
    "        self.X=np.zeros((self.res_size+self.in_size+1, train_len-init_len))\n",
    "        for t in range(train_len):\n",
    "            u = data[t]\n",
    "            self.x = (1-a)*self.x + a*np.tanh( np.dot( self.Win, np.vstack((1,u)) ) + np.dot( self.W, self.x ) ) \n",
    "            if t >= init_len:\n",
    "                self.X[:,t-init_len]= np.vstack((1,u,self.x))[:,0]\n",
    "        \n",
    "        return self.X\n",
    "    \n",
    "    def calculate_weights(self, data, init_len, train_len, beta=1e-8 ):\n",
    "        Y=data[None,init_len+1:train_len+1]\n",
    "        X_T=self.X.T\n",
    "        self.Wout= np.dot ( np.dot(Y, X_T), np.linalg.inv(np.dot(self.X,X_T) + beta * np.eye(self.res_size+self.in_size+1)))\n",
    "        #Wout = dot( dot(Yt,X_T), linalg.inv( dot(X,X_T) + reg*eye(1+inSize+resSize) ) ) #w= y*x_t*(x*x_t + beta*I)^-1\n",
    "        return self.Wout\n",
    "    \n",
    "    def run_generative(self, data, test_len, train_len,a=0.3):\n",
    "        self.Y = np.zeros((self.out_size,test_len))\n",
    "        u = data[train_len] #la ultima x terminó aquí!! y como la siguente x(n+1) necesita de la x(n) hemos de seguir utilizando las x!!! y e\n",
    "                            #empezar por la que corresponde!!!!\n",
    "        for t in range(test_len):\n",
    "            self.x = (1-a)*self.x + a*np.tanh( np.dot( self.Win, np.vstack((1,u)) ) + np.dot( self.W, self.x ) ) \n",
    "            y = np.dot( self.Wout, np.vstack((1,u,self.x)) )\n",
    "            self.Y[:,t] = y\n",
    "            #u = data[trainLen+t+1]\n",
    "            u =y\n",
    "        \n",
    "        return self.Y"
   ]
  },
  {
   "cell_type": "code",
   "execution_count": 27,
   "metadata": {
    "collapsed": true
   },
   "outputs": [],
   "source": [
    "# MI FUNCTIONS\n",
    "def calc_MI(x, y):\n",
    "    bins=sqrt(x.shape[0]/5)\n",
    "    c_xy = np.histogram2d(x, y, bins)[0]\n",
    "    mi = mutual_info_score(None, None, contingency=c_xy)\n",
    "    #mi = mutual_info_score(x,y)\n",
    "    return mi"
   ]
  },
  {
   "cell_type": "code",
   "execution_count": 28,
   "metadata": {
    "collapsed": true
   },
   "outputs": [],
   "source": [
    "def memory_capacity_n(Yt, Xt,n):\n",
    "    MI_i={}\n",
    "    for i in range(1,2*n+1):\n",
    "        MI_i[i]=calc_MI(Yt[0,300:600],Xt[300-i:600-i]) \n",
    "        \n",
    "    return MI_i"
   ]
  },
  {
   "cell_type": "code",
   "execution_count": null,
   "metadata": {
    "collapsed": true
   },
   "outputs": [],
   "source": [
    "#############TESTING"
   ]
  },
  {
   "cell_type": "code",
   "execution_count": 29,
   "metadata": {
    "collapsed": true
   },
   "outputs": [],
   "source": [
    "def testing_ESN_class(data,res_sizes,result):\n",
    "    for res_size in res_sizes:\n",
    "        first_net=ESN(res_size=res_size, in_size=1, out_size=1, spectral_radius=1.25)\n",
    "        first_net.initialize()\n",
    "        first_net.collect_states(data,initLen,trainLen)\n",
    "        first_net.calculate_weights(data,initLen,trainLen)\n",
    "        first_net.run_generative(data,testLen,trainLen)\n",
    "        nrmse= sqrt(mean_squared_error(result[trainLen+1:trainLen+errorLen+1],first_net.Y[0,0:errorLen])/np.std(first_net.Y[0,0:errorLen]))\n",
    "        mse = sum( np.square( result[trainLen+1:trainLen+errorLen+1] - first_net.Y[0,0:errorLen] ) ) / errorLen\n",
    "        print(res_size, memory_capacity_n(first_net.Y,data,10))\n",
    "        #print (res_size, ' MSE = ' + str( mse ))\n",
    "        #print(res_size,'NRMSE = ' + str( nrmse ))"
   ]
  },
  {
   "cell_type": "code",
   "execution_count": 4,
   "metadata": {
    "collapsed": true
   },
   "outputs": [],
   "source": [
    "#############################################################################"
   ]
  },
  {
   "cell_type": "code",
   "execution_count": null,
   "metadata": {
    "collapsed": true
   },
   "outputs": [],
   "source": []
  },
  {
   "cell_type": "code",
   "execution_count": 4,
   "metadata": {
    "collapsed": true
   },
   "outputs": [],
   "source": [
    "# TRAINING AND TEST LENGHT\n",
    "errorLen = 500\n",
    "trainLen=2000\n",
    "testLen=2000\n",
    "initLen=100"
   ]
  },
  {
   "cell_type": "code",
   "execution_count": null,
   "metadata": {
    "collapsed": true
   },
   "outputs": [],
   "source": [
    "##############################################################################"
   ]
  },
  {
   "cell_type": "code",
   "execution_count": null,
   "metadata": {
    "collapsed": true
   },
   "outputs": [],
   "source": [
    "## NARMA\n",
    "def NARMA_task(steps, data, init_len, train_len):\n",
    "        Y=np.zeros(train_len)\n",
    "        for t in range(init_len,train_len):\n",
    "            Y[t]=0.3* Y[t-1] + 0.05*Y[t-1]*np.sum(Y[t-1:t-steps])+ 1.5*data[t-steps]*data[t-1]+0.1\n",
    "                \n",
    "        return Y"
   ]
  },
  {
   "cell_type": "code",
   "execution_count": null,
   "metadata": {
    "collapsed": true
   },
   "outputs": [],
   "source": [
    "data= [rand.uniform(0,0.5) for el in range(initLen+trainLen+testLen+errorLen)]\n",
    "NARMA_result= NARMA_task(10,data,initLen,len(data))\n",
    "print(\"NARMA\")\n",
    "testing_ESN_class(NARMA_result,[2000],NARMA_result)"
   ]
  },
  {
   "cell_type": "code",
   "execution_count": null,
   "metadata": {
    "collapsed": true
   },
   "outputs": [],
   "source": [
    "#############################################################################"
   ]
  },
  {
   "cell_type": "code",
   "execution_count": 32,
   "metadata": {},
   "outputs": [
    {
     "name": "stdout",
     "output_type": "stream",
     "text": [
      "MACKEY GLASS\n",
      "13 {1: 0.011534727566710465, 2: 0.010430979160355913, 3: 0.0091315815024647431, 4: 0.012089375070533814, 5: 0.014899124096317613, 6: 0.014899124096317613, 7: 0.014899124096317613, 8: 0.014899124096317613, 9: 0.014899124096317613, 10: 0.014899124096317613, 11: 0.014899124096317613, 12: 0.014899124096317613, 13: 0.014899124096317613, 14: 0.01511085326174394, 15: 0.015329530496059861, 16: 0.012220900129794324, 17: 0.0089584018536289015, 18: 0.0090444293274091411, 19: 0.0091315815024647431, 20: 0.0092198881786574038}\n",
      "207 {1: 0.43877343714021988, 2: 0.40411412796713425, 3: 0.35089539009975312, 4: 0.3432435184647275, 5: 0.31093098095561367, 6: 0.26758122463396267, 7: 0.23772851843246476, 8: 0.26439655605622103, 9: 0.2752735675638957, 10: 0.29239371248950602, 11: 0.31458933885815216, 12: 0.33205235972718244, 13: 0.33315504683723129, 14: 0.33300813096321547, 15: 0.2923838822246978, 16: 0.28147533508226152, 17: 0.33198972776088548, 18: 0.38302002552505021, 19: 0.41349244237023147, 20: 0.43877386033136018}\n",
      "489 {1: 0.41728998015551833, 2: 0.38011065530398752, 3: 0.36137308626910425, 4: 0.30481720771551707, 5: 0.31062342520653641, 6: 0.30701201320067795, 7: 0.28946935874529189, 8: 0.31127797685327907, 9: 0.3237394043950782, 10: 0.33860055701971908, 11: 0.34855543428625962, 12: 0.36661531229349442, 13: 0.36060699200398294, 14: 0.371138962317756, 15: 0.43417994864024012, 16: 0.51060951248754627, 17: 0.56534014532080923, 18: 0.60480208601591123, 19: 0.55498454733470026, 20: 0.51887780552827845}\n",
      "289 {1: 0.41012081504824982, 2: 0.35021166988538521, 3: 0.31395033981246939, 4: 0.29220625938979805, 5: 0.27844937260581437, 6: 0.29392602342196844, 7: 0.28700378813994437, 8: 0.30747922705346753, 9: 0.31215898810831821, 10: 0.30659699652905836, 11: 0.3249626568041884, 12: 0.32066112406661396, 13: 0.31204868630847865, 14: 0.33011359089695136, 15: 0.36109375977895769, 16: 0.39908134595819111, 17: 0.47708729386856885, 18: 0.52557420584805892, 19: 0.52928754775011777, 20: 0.51880279763302861}\n",
      "70 {1: 0.19423393126603394, 2: 0.2023153418207454, 3: 0.22622944524202498, 4: 0.24267557762864489, 5: 0.28522075542026004, 6: 0.24763955044047647, 7: 0.2230376084800757, 8: 0.23348345269389484, 9: 0.21427725236657538, 10: 0.23953756831040801, 11: 0.2978711281438578, 12: 0.28369464037168407, 13: 0.27986591660694349, 14: 0.32394691722713898, 15: 0.35625861979570728, 16: 0.36421436531494211, 17: 0.37831164949338281, 18: 0.36044932413037073, 19: 0.36545540522915793, 20: 0.35602659937157066}\n"
     ]
    }
   ],
   "source": [
    "### MACKEYGLASS\n",
    "data = np.loadtxt('MackeyGlass_t17.txt') #Se importa como un numpy array\n",
    "print(\"MACKEY GLASS\")\n",
    "testing_ESN_class(data,[13,207,489,289,70],data)"
   ]
  },
  {
   "cell_type": "code",
   "execution_count": null,
   "metadata": {
    "collapsed": true
   },
   "outputs": [],
   "source": []
  }
 ],
 "metadata": {
  "kernelspec": {
   "display_name": "Python 3",
   "language": "python",
   "name": "python3"
  },
  "language_info": {
   "codemirror_mode": {
    "name": "ipython",
    "version": 3
   },
   "file_extension": ".py",
   "mimetype": "text/x-python",
   "name": "python",
   "nbconvert_exporter": "python",
   "pygments_lexer": "ipython3",
   "version": "3.5.2"
  }
 },
 "nbformat": 4,
 "nbformat_minor": 2
}
