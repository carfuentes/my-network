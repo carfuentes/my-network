{
 "cells": [
  {
   "cell_type": "code",
   "execution_count": 1,
   "metadata": {},
   "outputs": [],
   "source": [
    "import numpy as np\n",
    "import random as rand\n",
    "import matplotlib.pyplot as plt\n",
    "import scipy.linalg\n",
    "from sklearn.metrics import mean_squared_error\n",
    "from math import sqrt\n",
    "import scipy\n"
   ]
  },
  {
   "cell_type": "code",
   "execution_count": 2,
   "metadata": {
    "collapsed": true
   },
   "outputs": [],
   "source": [
    "class ESN(object):\n",
    "    def __init__(self, res_size, in_size, out_size, spectral_radius):\n",
    "        self.res_size= res_size\n",
    "        self.in_size=in_size\n",
    "        self.out_size=out_size\n",
    "        self.spectral_radius= spectral_radius\n",
    "        self.W=None\n",
    "        self.Win=None\n",
    "        self.Wout=None\n",
    "        self.X=None\n",
    "        self.Y=None\n",
    "        self.x=np.zeros((self.res_size,1))\n",
    "    \n",
    "    def initialize(self): \n",
    "        np.random.seed(42)\n",
    "        self.Win=(np.random.rand(self.res_size,1+self.in_size)-0.5)*1\n",
    "        W0= np.random.rand(self.res_size,self.res_size)-0.5\n",
    "        rhoW0 = max(abs(scipy.linalg.eig(W0)[0]))\n",
    "        self.W= (self.spectral_radius/rhoW0)*W0\n",
    "    \n",
    "    def update_gene(weight, regulator, gene, n, K, decay):\n",
    "        if weight == 0:\n",
    "            return 0\n",
    "        elif weight > 0:\n",
    "            return ((weight * regulator ** n ) / (K + regulator ** n)) - (decay * gene)\n",
    "        elif weight <0:\n",
    "            return (weight / (regulator / K) ** n) -(decay * gene) \n",
    "\n",
    "\n",
    "    def dx_dt(x, t, matrix_betas, gene_names, n, K,decay):\n",
    "        x_updated= [];\n",
    "        for i, gene in enumerate(gene_names):\n",
    "            x_updated.append(x[i]+ (sum(update_gene(weight, x[j], x[i], n, K, decay[i]) for j, weight in enumerate(matrix_betas[i]))))\n",
    "\n",
    "        return np.array(x_updated)\n",
    "\n",
    "        \n",
    "    def collect_states(self, data, init_len, train_len, a=0.3):\n",
    "        self.X=np.zeros((self.res_size+self.in_size+1, train_len-init_len))\n",
    "        for t in range(train_len):\n",
    "            u = data[t]\n",
    "            self.x = (1-a)*self.x + a*np.tanh( np.dot( self.Win, np.vstack((1,u)) ) + np.dot( self.W, self.x ) ) \n",
    "            if t >= init_len:\n",
    "                self.X[:,t-init_len]= np.vstack((1,u,self.x))[:,0]\n",
    "        \n",
    "        return self.X\n",
    "    \n",
    "    def calculate_weights(self, data, init_len, train_len, beta=1e-8 ):\n",
    "        Y=np.array([data[init_len+1:train_len+1]])\n",
    "        X_T=self.X.T\n",
    "        self.Wout= np.dot ( np.dot(Y, X_T), np.linalg.inv(np.dot(self.X,X_T) + beta * np.eye(self.res_size+self.in_size+1)))\n",
    "        #Wout = dot( dot(Yt,X_T), linalg.inv( dot(X,X_T) + reg*eye(1+inSize+resSize) ) ) #w= y*x_t*(x*x_t + beta*I)^-1\n",
    "        return self.Wout\n",
    "    \n",
    "    def run_generative(self, data, test_len, train_len,a=0.3):\n",
    "        self.Y = np.zeros((self.out_size,test_len))\n",
    "        u = data[train_len] #la ultima x terminó aquí!! y como la siguente x(n+1) necesita de la x(n) hemos de seguir utilizando las x!!! y e\n",
    "                            #empezar por la que corresponde!!!!\n",
    "        for t in range(test_len):\n",
    "            self.x = (1-a)*self.x + a*np.tanh( np.dot( self.Win, np.vstack((1,u)) ) + np.dot( self.W, self.x ) ) \n",
    "            y = np.dot( self.Wout, np.vstack((1,u,self.x)) )\n",
    "            self.Y[:,t] = y\n",
    "            u = data[trainLen+t+1]\n",
    "        \n",
    "        return self.Y"
   ]
  },
  {
   "cell_type": "code",
   "execution_count": 3,
   "metadata": {
    "collapsed": true
   },
   "outputs": [],
   "source": [
    "def testing_ESN_class(data,res_sizes,result):\n",
    "    for res_size in res_sizes:\n",
    "        first_net=ESN(res_size=res_size, in_size=1, out_size=1, spectral_radius=0.95)\n",
    "        first_net.initialize()\n",
    "        first_net.collect_states(data,initLen,trainLen)\n",
    "        first_net.calculate_weights(data,initLen,trainLen)\n",
    "        first_net.run_generative(data,testLen,trainLen)\n",
    "        nrmse= sqrt(mean_squared_error(result[trainLen+1:trainLen+errorLen+1],first_net.Y[0,0:errorLen])/np.std(first_net.Y[0,0:errorLen]))\n",
    "      \n",
    "        print(res_size,'NRMSE = ' + str( nrmse ))"
   ]
  },
  {
   "cell_type": "code",
   "execution_count": 4,
   "metadata": {
    "collapsed": true
   },
   "outputs": [],
   "source": [
    "#############################################################################"
   ]
  },
  {
   "cell_type": "code",
   "execution_count": 5,
   "metadata": {
    "collapsed": true
   },
   "outputs": [],
   "source": [
    "# TRAINING AND TEST LENGHT\n",
    "errorLen = 500\n",
    "trainLen=9000\n",
    "testLen=1000\n",
    "initLen=100"
   ]
  },
  {
   "cell_type": "code",
   "execution_count": null,
   "metadata": {
    "collapsed": true
   },
   "outputs": [],
   "source": []
  },
  {
   "cell_type": "code",
   "execution_count": 6,
   "metadata": {
    "collapsed": true
   },
   "outputs": [],
   "source": [
    "##############################################################################"
   ]
  },
  {
   "cell_type": "code",
   "execution_count": 10,
   "metadata": {
    "collapsed": true
   },
   "outputs": [],
   "source": [
    "## NARMA\n",
    "def NARMA_task(steps, data, init_len, train_len):\n",
    "        Y=np.zeros(train_len)\n",
    "        for t in range(init_len,train_len):\n",
    "            Y[t]=0.3* Y[t-1] + 0.05*Y[t-1]*np.sum(Y[t-1:t-steps])+ 1.5*data[t-steps]*data[t-1]+0.1\n",
    "                \n",
    "        return Y"
   ]
  },
  {
   "cell_type": "code",
   "execution_count": 11,
   "metadata": {},
   "outputs": [],
   "source": [
    "data= [rand.uniform(0,0.5) for el in range(initLen+trainLen+testLen+errorLen)]\n",
    "NARMA_result= NARMA_task(10,data,initLen,len(data))"
   ]
  },
  {
   "cell_type": "code",
   "execution_count": 9,
   "metadata": {},
   "outputs": [
    {
     "name": "stdout",
     "output_type": "stream",
     "text": [
      "NARMA\n",
      "2000 NRMSE = 0.40043256830712015\n"
     ]
    }
   ],
   "source": [
    "print(\"NARMA\")\n",
    "testing_ESN_class(NARMA_result,[2000],NARMA_result)\n",
    "    "
   ]
  },
  {
   "cell_type": "code",
   "execution_count": null,
   "metadata": {
    "collapsed": true
   },
   "outputs": [],
   "source": []
  },
  {
   "cell_type": "code",
   "execution_count": null,
   "metadata": {
    "collapsed": true
   },
   "outputs": [],
   "source": [
    "#############################################################################"
   ]
  },
  {
   "cell_type": "code",
   "execution_count": null,
   "metadata": {
    "collapsed": true
   },
   "outputs": [],
   "source": [
    "### MACKEYGLASS\n",
    "data = np.loadtxt('MackeyGlass_t17.txt') #Se importa como un numpy array"
   ]
  },
  {
   "cell_type": "code",
   "execution_count": null,
   "metadata": {},
   "outputs": [],
   "source": [
    "print(\"MACKEY GLASS\")\n",
    "testing_ESN_class(data,[2000],data)"
   ]
  },
  {
   "cell_type": "code",
   "execution_count": null,
   "metadata": {},
   "outputs": [],
   "source": [
    "def derivative(x,t,my_t,b):\n",
    "    x= 2*x\n",
    "    if t== initLen:\n",
    "        print(\"hola\")\n",
    "        my_t.append(t)\n",
    "    return x\n",
    "\n",
    "my_t=[2]\n",
    "b=0\n",
    "x=scipy.integrate.odeint(derivative,2,[99,100,101],args=(my_t,b))\n",
    "        "
   ]
  },
  {
   "cell_type": "code",
   "execution_count": null,
   "metadata": {},
   "outputs": [],
   "source": [
    "np.zeros((11,1)).shape"
   ]
  },
  {
   "cell_type": "code",
   "execution_count": null,
   "metadata": {},
   "outputs": [],
   "source": [
    "y=np.array([1,2,3])\n",
    "x=np.array([1,2,3,4])\n",
    "train=0\n",
    "test=2\n",
    "\n",
    "x[train:test]"
   ]
  },
  {
   "cell_type": "raw",
   "metadata": {},
   "source": [
    "NARMA"
   ]
  }
 ],
 "metadata": {
  "kernelspec": {
   "display_name": "Python 3",
   "language": "python",
   "name": "python3"
  },
  "language_info": {
   "codemirror_mode": {
    "name": "ipython",
    "version": 3
   },
   "file_extension": ".py",
   "mimetype": "text/x-python",
   "name": "python",
   "nbconvert_exporter": "python",
   "pygments_lexer": "ipython3",
   "version": "3.5.2"
  }
 },
 "nbformat": 4,
 "nbformat_minor": 2
}
