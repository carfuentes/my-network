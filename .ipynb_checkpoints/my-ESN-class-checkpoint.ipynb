{
 "cells": [
  {
   "cell_type": "code",
   "execution_count": 31,
   "metadata": {
    "collapsed": true
   },
   "outputs": [],
   "source": [
    "import numpy as np\n",
    "import random as rand\n",
    "import matplotlib.pyplot as plt\n",
    "import scipy.linalg\n",
    "from sklearn.metrics import mean_squared_error\n",
    "from math import sqrt\n",
    "import scipy\n",
    "from sklearn.metrics import mutual_info_score\n"
   ]
  },
  {
   "cell_type": "code",
   "execution_count": 36,
   "metadata": {
    "collapsed": true
   },
   "outputs": [],
   "source": [
    "class ESN(object):\n",
    "    def __init__(self, res_size, in_size, out_size, spectral_radius):\n",
    "        self.res_size= res_size\n",
    "        self.in_size=in_size\n",
    "        self.out_size=out_size\n",
    "        self.spectral_radius= spectral_radius\n",
    "        self.W=None\n",
    "        self.Win=None\n",
    "        self.Wout=None\n",
    "        self.X=None\n",
    "        self.Y=None\n",
    "        self.x=np.zeros((self.res_size,1))\n",
    "    \n",
    "    def initialize(self): \n",
    "        np.random.seed(42)\n",
    "        self.Win=(np.random.rand(self.res_size,1+self.in_size)-0.5)*1\n",
    "        W0= np.random.rand(self.res_size,self.res_size)-0.5\n",
    "        rhoW0 = max(abs(scipy.linalg.eig(W0)[0]))\n",
    "        self.W= (self.spectral_radius/rhoW0)*W0\n",
    "    \n",
    "    def update_gene(weight, regulator, gene, n, K, decay):\n",
    "        if weight == 0:\n",
    "            return 0\n",
    "        elif weight > 0:\n",
    "            return ((weight * regulator ** n ) / (K + regulator ** n)) - (decay * gene)\n",
    "        elif weight <0:\n",
    "            return (weight / (regulator / K) ** n) -(decay * gene) \n",
    "\n",
    "\n",
    "    def dx_dt(x, t, matrix_betas, gene_names, n, K,decay):\n",
    "        x_updated= [];\n",
    "        for i, gene in enumerate(gene_names):\n",
    "            x_updated.append(x[i]+ (sum(update_gene(weight, x[j], x[i], n, K, decay[i]) for j, weight in enumerate(matrix_betas[i]))))\n",
    "\n",
    "        return np.array(x_updated)\n",
    "\n",
    "        \n",
    "    def collect_states(self, data, init_len, train_len, a=0.3):\n",
    "        self.X=np.zeros((self.res_size+self.in_size+1, train_len-init_len))\n",
    "        for t in range(train_len):\n",
    "            u = data[t]\n",
    "            self.x = (1-a)*self.x + a*np.tanh( np.dot( self.Win, np.vstack((1,u)) ) + np.dot( self.W, self.x ) ) \n",
    "            if t >= init_len:\n",
    "                self.X[:,t-init_len]= np.vstack((1,u,self.x))[:,0]\n",
    "        \n",
    "        return self.X\n",
    "    \n",
    "    def calculate_weights(self, data, init_len, train_len, beta=1e-8 ):\n",
    "        Y=data[None,init_len+1:train_len+1]\n",
    "        X_T=self.X.T\n",
    "        self.Wout= np.dot ( np.dot(Y, X_T), np.linalg.inv(np.dot(self.X,X_T) + beta * np.eye(self.res_size+self.in_size+1)))\n",
    "        #Wout = dot( dot(Yt,X_T), linalg.inv( dot(X,X_T) + reg*eye(1+inSize+resSize) ) ) #w= y*x_t*(x*x_t + beta*I)^-1\n",
    "        return self.Wout\n",
    "    \n",
    "    def run_generative(self, data, test_len, train_len,a=0.3):\n",
    "        self.Y = np.zeros((self.out_size,test_len))\n",
    "        u = data[train_len] #la ultima x terminó aquí!! y como la siguente x(n+1) necesita de la x(n) hemos de seguir utilizando las x!!! y e\n",
    "                            #empezar por la que corresponde!!!!\n",
    "        for t in range(test_len):\n",
    "            self.x = (1-a)*self.x + a*np.tanh( np.dot( self.Win, np.vstack((1,u)) ) + np.dot( self.W, self.x ) ) \n",
    "            y = np.dot( self.Wout, np.vstack((1,u,self.x)) )\n",
    "            self.Y[:,t] = y\n",
    "            #u = data[trainLen+t+1]\n",
    "            u =y\n",
    "        \n",
    "        return self.Y"
   ]
  },
  {
   "cell_type": "code",
   "execution_count": 27,
   "metadata": {
    "collapsed": true
   },
   "outputs": [],
   "source": [
    "# MI FUNCTIONS\n",
    "def calc_MI(x, y):\n",
    "    bins=sqrt(x.shape[0]/5)\n",
    "    c_xy = np.histogram2d(x, y, bins)[0]\n",
    "    mi = mutual_info_score(None, None, contingency=c_xy)\n",
    "    #mi = mutual_info_score(x,y)\n",
    "    return mi"
   ]
  },
  {
   "cell_type": "code",
   "execution_count": 28,
   "metadata": {
    "collapsed": true
   },
   "outputs": [],
   "source": [
    "def memory_capacity_n(Yt, Xt,n):\n",
    "    MI_i={}\n",
    "    for i in range(1,2*n+1):\n",
    "        MI_i[i]=calc_MI(Yt[0,300:600],Xt[300-i:600-i]) \n",
    "        \n",
    "    return MI_i"
   ]
  },
  {
   "cell_type": "code",
   "execution_count": null,
   "metadata": {
    "collapsed": true
   },
   "outputs": [],
   "source": [
    "#############TESTING"
   ]
  },
  {
   "cell_type": "code",
   "execution_count": 33,
   "metadata": {
    "collapsed": true
   },
   "outputs": [],
   "source": [
    "def testing_ESN_class(data,res_sizes,result):\n",
    "    for res_size in res_sizes:\n",
    "        first_net=ESN(res_size=res_size, in_size=1, out_size=1, spectral_radius=1.25)\n",
    "        first_net.initialize()\n",
    "        first_net.collect_states(data,initLen,trainLen)\n",
    "        first_net.calculate_weights(data,initLen,trainLen)\n",
    "        first_net.run_generative(data,testLen,trainLen)\n",
    "        nrmse= sqrt(mean_squared_error(result[trainLen+1:trainLen+errorLen+1],first_net.Y[0,0:errorLen])/np.std(first_net.Y[0,0:errorLen]))\n",
    "        mse = sum( np.square( result[trainLen+1:trainLen+errorLen+1] - first_net.Y[0,0:errorLen] ) ) / errorLen\n",
    "        print(res_size, \"\\n\",memory_capacity_n(first_net.Y,data,10))\n",
    "        #print (res_size, ' MSE = ' + str( mse ))\n",
    "        #print(res_size,'NRMSE = ' + str( nrmse ))"
   ]
  },
  {
   "cell_type": "code",
   "execution_count": 4,
   "metadata": {
    "collapsed": true
   },
   "outputs": [],
   "source": [
    "#############################################################################"
   ]
  },
  {
   "cell_type": "code",
   "execution_count": null,
   "metadata": {
    "collapsed": true
   },
   "outputs": [],
   "source": []
  },
  {
   "cell_type": "code",
   "execution_count": 4,
   "metadata": {
    "collapsed": true
   },
   "outputs": [],
   "source": [
    "# TRAINING AND TEST LENGHT\n",
    "errorLen = 500\n",
    "trainLen=2000\n",
    "testLen=2000\n",
    "initLen=100"
   ]
  },
  {
   "cell_type": "code",
   "execution_count": null,
   "metadata": {
    "collapsed": true
   },
   "outputs": [],
   "source": [
    "##############################################################################"
   ]
  },
  {
   "cell_type": "code",
   "execution_count": null,
   "metadata": {
    "collapsed": true
   },
   "outputs": [],
   "source": [
    "## NARMA\n",
    "def NARMA_task(steps, data, init_len, train_len):\n",
    "        Y=np.zeros(train_len)\n",
    "        for t in range(init_len,train_len):\n",
    "            Y[t]=0.3* Y[t-1] + 0.05*Y[t-1]*np.sum(Y[t-1:t-steps])+ 1.5*data[t-steps]*data[t-1]+0.1\n",
    "                \n",
    "        return Y"
   ]
  },
  {
   "cell_type": "code",
   "execution_count": null,
   "metadata": {
    "collapsed": true
   },
   "outputs": [],
   "source": [
    "data= [rand.uniform(0,0.5) for el in range(initLen+trainLen+testLen+errorLen)]\n",
    "NARMA_result= NARMA_task(10,data,initLen,len(data))\n",
    "print(\"NARMA\")\n",
    "testing_ESN_class(NARMA_result,[2000],NARMA_result)"
   ]
  },
  {
   "cell_type": "code",
   "execution_count": null,
   "metadata": {
    "collapsed": true
   },
   "outputs": [],
   "source": [
    "#############################################################################"
   ]
  },
  {
   "cell_type": "code",
   "execution_count": 37,
   "metadata": {},
   "outputs": [
    {
     "name": "stdout",
     "output_type": "stream",
     "text": [
      "MACKEY GLASS\n",
      "13 \n",
      " {1: 0.4256706669745981, 2: 0.35441755080615528, 3: 0.32237144147358981, 4: 0.28547716694926878, 5: 0.30260381294004696, 6: 0.3110472208597298, 7: 0.28195843148003885, 8: 0.30879185035522005, 9: 0.33152917055401232, 10: 0.33184989081182198, 11: 0.34928820973789287, 12: 0.34910128840935573, 13: 0.36236416315390263, 14: 0.35831374938361599, 15: 0.40034775677571732, 16: 0.45909088555977068, 17: 0.53379610089673046, 18: 0.58499050365071403, 19: 0.53499422808411978, 20: 0.52098619156111803}\n",
      "207 \n",
      " {1: 0.42552186359760702, 2: 0.35362009285956236, 3: 0.32279783763848219, 4: 0.28612595023877396, 5: 0.30257545395847335, 6: 0.31192476201904595, 7: 0.282835972639355, 8: 0.30425270866263943, 9: 0.32811551063640021, 10: 0.33211829351143346, 11: 0.34380297098846868, 12: 0.3483038928851091, 13: 0.35842580881549957, 14: 0.35257508542428823, 15: 0.39292461588828487, 16: 0.45195182655365373, 17: 0.5268504021355277, 18: 0.57762704631439199, 19: 0.52695958696277467, 20: 0.51672357186564}\n",
      "489 \n",
      " {1: 0.42796737704956667, 2: 0.3566500012362806, 3: 0.32632430419666208, 4: 0.28950924268159933, 5: 0.30463196308332391, 6: 0.31339972188155529, 7: 0.28431093250186429, 8: 0.30990456011306533, 9: 0.33248350543269767, 10: 0.33542128130518684, 11: 0.35285960023125762, 12: 0.35098820197461578, 13: 0.36064338865851148, 14: 0.34776561806035639, 15: 0.39270228615226122, 16: 0.45144541493631457, 17: 0.52615063027327436, 18: 0.57734503302725793, 19: 0.52149843588917089, 20: 0.51592711988092943}\n",
      "289 \n",
      " {1: 0.42552186359760702, 2: 0.35362009285956236, 3: 0.32279783763848219, 4: 0.28612595023877396, 5: 0.30257545395847335, 6: 0.31192476201904595, 7: 0.282835972639355, 8: 0.30425270866263943, 9: 0.32811551063640021, 10: 0.33211829351143346, 11: 0.34380297098846868, 12: 0.3483038928851091, 13: 0.35842580881549957, 14: 0.35257508542428823, 15: 0.39292461588828487, 16: 0.45195182655365373, 17: 0.5268504021355277, 18: 0.57762704631439199, 19: 0.52695958696277467, 20: 0.51672357186564}\n",
      "70 \n",
      " {1: 0.42552186359760702, 2: 0.35362009285956236, 3: 0.32279783763848219, 4: 0.28612595023877396, 5: 0.30257545395847335, 6: 0.31192476201904595, 7: 0.282835972639355, 8: 0.30425270866263943, 9: 0.32811551063640021, 10: 0.33211829351143346, 11: 0.34380297098846868, 12: 0.3483038928851091, 13: 0.35842580881549957, 14: 0.35257508542428823, 15: 0.39292461588828487, 16: 0.45195182655365373, 17: 0.5268504021355277, 18: 0.57762704631439199, 19: 0.52695958696277467, 20: 0.51672357186564}\n"
     ]
    }
   ],
   "source": [
    "### MACKEYGLASS\n",
    "data = np.loadtxt('MackeyGlass_t17.txt') #Se importa como un numpy array\n",
    "print(\"MACKEY GLASS\")\n",
    "testing_ESN_class(data,[13,207,489,289,70],data)"
   ]
  },
  {
   "cell_type": "code",
   "execution_count": null,
   "metadata": {
    "collapsed": true
   },
   "outputs": [],
   "source": []
  }
 ],
 "metadata": {
  "kernelspec": {
   "display_name": "Python 3",
   "language": "python",
   "name": "python3"
  },
  "language_info": {
   "codemirror_mode": {
    "name": "ipython",
    "version": 3
   },
   "file_extension": ".py",
   "mimetype": "text/x-python",
   "name": "python",
   "nbconvert_exporter": "python",
   "pygments_lexer": "ipython3",
   "version": "3.5.2"
  }
 },
 "nbformat": 4,
 "nbformat_minor": 2
}
